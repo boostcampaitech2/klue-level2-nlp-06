{
 "cells": [
  {
   "cell_type": "code",
   "execution_count": 50,
   "source": [
    "import pandas as pd\n",
    "sota = pd.read_csv(\"./sota.csv\")\n",
    "\n",
    "def diff_print(path):\n",
    "    new_answer = pd.read_csv(path)\n",
    "    df = pd.DataFrame()\n",
    "    df['new_answer'] = new_answer[new_answer.pred_label != sota.pred_label].pred_label\n",
    "    df['sota'] = sota[new_answer.pred_label != sota.pred_label].pred_label\n",
    "    \n",
    "    from collections import Counter\n",
    "    c = Counter(df['new_answer'].to_list())\n",
    "    c = dict(sorted(c.items(), key = lambda x:x[1] , reverse=True ))\n",
    "\n",
    "    print(\"%d of prediction is not equal to SOTA out of \" %(sum((new_answer.pred_label != sota.pred_label).values)), len(sota))\n",
    "    print()\n",
    "\n",
    "    print(\"*\" * 5 + \"compare each row\" + \"*\" * 5 )\n",
    "    print(df[df['new_answer'] == \"no_relation\"])\n",
    "    print()\n",
    "    \n",
    "    print(\"*\" * 5  + \"count each diff label\" + \"*\" * 5 )\n",
    "    print(c)\n",
    "    # return new_answer, sota"
   ],
   "outputs": [],
   "metadata": {}
  },
  {
   "cell_type": "code",
   "execution_count": 53,
   "source": [
    "# diff(\"./prediction/submission.csv\")\n",
    "diff_print(\"togo1.csv\")"
   ],
   "outputs": [
    {
     "output_type": "stream",
     "name": "stdout",
     "text": [
      "1802 of prediction is not equal to SOTA out of  7765\n",
      "\n",
      "*****compare each row*****\n",
      "       new_answer                             sota\n",
      "15    no_relation                   per:colleagues\n",
      "36    no_relation                  per:employee_of\n",
      "39    no_relation        org:top_members/employees\n",
      "65    no_relation        org:top_members/employees\n",
      "67    no_relation        org:top_members/employees\n",
      "...           ...                              ...\n",
      "7700  no_relation  org:number_of_employees/members\n",
      "7712  no_relation                      org:product\n",
      "7720  no_relation                 per:other_family\n",
      "7722  no_relation                   per:colleagues\n",
      "7748  no_relation                 per:other_family\n",
      "\n",
      "[576 rows x 2 columns]\n",
      "\n",
      "*****count each diff label*****\n",
      "{'no_relation': 576, 'org:place_of_headquarters': 284, 'org:alternate_names': 153, 'per:title': 115, 'per:alternate_names': 112, 'org:members': 111, 'org:top_members/employees': 77, 'per:employee_of': 66, 'org:member_of': 64, 'per:product': 55, 'per:place_of_residence': 37, 'org:product': 37, 'per:origin': 20, 'per:date_of_birth': 15, 'per:place_of_birth': 11, 'per:spouse': 10, 'per:parents': 8, 'org:founded': 8, 'per:children': 7, 'per:date_of_death': 6, 'per:place_of_death': 5, 'per:siblings': 5, 'per:colleagues': 5, 'per:schools_attended': 4, 'org:political/religious_affiliation': 4, 'per:religion': 2, 'org:number_of_employees/members': 2, 'per:other_family': 1, 'org:founded_by': 1, 'org:dissolved': 1}\n"
     ]
    }
   ],
   "metadata": {}
  },
  {
   "cell_type": "code",
   "execution_count": null,
   "source": [],
   "outputs": [],
   "metadata": {}
  }
 ],
 "metadata": {
  "orig_nbformat": 4,
  "language_info": {
   "name": "python",
   "version": "3.8.5",
   "mimetype": "text/x-python",
   "codemirror_mode": {
    "name": "ipython",
    "version": 3
   },
   "pygments_lexer": "ipython3",
   "nbconvert_exporter": "python",
   "file_extension": ".py"
  },
  "kernelspec": {
   "name": "python3",
   "display_name": "Python 3.8.5 64-bit ('base': conda)"
  },
  "interpreter": {
   "hash": "98b0a9b7b4eaaa670588a142fd0a9b87eaafe866f1db4228be72b4211d12040f"
  }
 },
 "nbformat": 4,
 "nbformat_minor": 2
}