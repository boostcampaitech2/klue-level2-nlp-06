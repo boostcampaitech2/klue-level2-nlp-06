{
 "cells": [
  {
   "cell_type": "code",
   "execution_count": 12,
   "source": [
    "import pandas as pd\n",
    "sota = pd.read_csv(\"./ensemble_best.csv\")\n",
    "\n",
    "def diff_print(path):\n",
    "    new_answer = pd.read_csv(path)\n",
    "    df = pd.DataFrame()\n",
    "    df['new_answer'] = new_answer[new_answer.pred_label != sota.pred_label].pred_label\n",
    "    df['sota'] = sota[new_answer.pred_label != sota.pred_label].pred_label\n",
    "    \n",
    "    from collections import Counter\n",
    "    c = Counter(df['new_answer'].to_list())\n",
    "    c = dict(sorted(c.items(), key = lambda x:x[1] , reverse=True ))\n",
    "\n",
    "    print(\"%d of prediction is not equal to SOTA out of \" %(sum((new_answer.pred_label != sota.pred_label).values)), len(sota))\n",
    "    print()\n",
    "\n",
    "    print(\"*\" * 5 + \"compare each row\" + \"*\" * 5 )\n",
    "    print(df[df['new_answer'] == \"no_relation\"])\n",
    "    print()\n",
    "    \n",
    "    print(\"*\" * 5  + \"count each diff label\" + \"*\" * 5 )\n",
    "    print(c)\n",
    "    # return new_answer, sota"
   ],
   "outputs": [],
   "metadata": {}
  },
  {
   "cell_type": "code",
   "execution_count": 10,
   "source": [
    "# diff(\"./prediction/submission.csv\")\n",
    "diff_print(\"togo2.csv\")"
   ],
   "outputs": [
    {
     "output_type": "stream",
     "name": "stdout",
     "text": [
      "1201 of prediction is not equal to SOTA out of  7765\n",
      "\n",
      "*****compare each row*****\n",
      "       new_answer                       sota\n",
      "4     no_relation  org:top_members/employees\n",
      "15    no_relation             per:colleagues\n",
      "36    no_relation            per:employee_of\n",
      "39    no_relation  org:top_members/employees\n",
      "53    no_relation             per:colleagues\n",
      "...           ...                        ...\n",
      "7722  no_relation             per:colleagues\n",
      "7727  no_relation            per:employee_of\n",
      "7728  no_relation            per:employee_of\n",
      "7748  no_relation           per:other_family\n",
      "7760  no_relation  org:place_of_headquarters\n",
      "\n",
      "[496 rows x 2 columns]\n",
      "\n",
      "*****count each diff label*****\n",
      "{'no_relation': 496, 'org:place_of_headquarters': 125, 'org:top_members/employees': 73, 'per:product': 68, 'org:members': 61, 'per:title': 60, 'org:product': 57, 'per:colleagues': 37, 'org:member_of': 31, 'per:place_of_residence': 25, 'per:origin': 23, 'per:spouse': 23, 'org:alternate_names': 22, 'per:employee_of': 21, 'per:alternate_names': 17, 'per:parents': 14, 'per:date_of_birth': 8, 'per:date_of_death': 6, 'org:founded': 6, 'per:place_of_death': 4, 'per:schools_attended': 4, 'per:siblings': 4, 'per:children': 4, 'per:religion': 4, 'per:other_family': 2, 'per:place_of_birth': 2, 'org:dissolved': 1, 'org:number_of_employees/members': 1, 'org:political/religious_affiliation': 1, 'org:founded_by': 1}\n"
     ]
    }
   ],
   "metadata": {}
  },
  {
   "cell_type": "code",
   "execution_count": 11,
   "source": [
    "diff_print(\"togo3.csv\")"
   ],
   "outputs": [
    {
     "output_type": "stream",
     "name": "stdout",
     "text": [
      "1172 of prediction is not equal to SOTA out of  7765\n",
      "\n",
      "*****compare each row*****\n",
      "       new_answer                       sota\n",
      "11    no_relation              org:dissolved\n",
      "32    no_relation     per:place_of_residence\n",
      "39    no_relation  org:top_members/employees\n",
      "46    no_relation  org:top_members/employees\n",
      "47    no_relation                  per:title\n",
      "...           ...                        ...\n",
      "7727  no_relation            per:employee_of\n",
      "7728  no_relation            per:employee_of\n",
      "7731  no_relation                per:product\n",
      "7741  no_relation                  per:title\n",
      "7743  no_relation  org:place_of_headquarters\n",
      "\n",
      "[770 rows x 2 columns]\n",
      "\n",
      "*****count each diff label*****\n",
      "{'no_relation': 770, 'org:top_members/employees': 49, 'per:origin': 46, 'org:place_of_headquarters': 36, 'per:employee_of': 35, 'per:title': 33, 'org:member_of': 27, 'org:product': 22, 'org:alternate_names': 18, 'per:other_family': 18, 'per:place_of_residence': 18, 'per:spouse': 16, 'per:parents': 14, 'per:siblings': 13, 'org:political/religious_affiliation': 12, 'per:children': 9, 'org:members': 9, 'per:alternate_names': 9, 'org:founded': 8, 'per:place_of_death': 2, 'per:colleagues': 2, 'per:date_of_birth': 1, 'per:religion': 1, 'per:place_of_birth': 1, 'per:date_of_death': 1, 'per:schools_attended': 1, 'per:product': 1}\n"
     ]
    }
   ],
   "metadata": {}
  },
  {
   "cell_type": "code",
   "execution_count": 18,
   "source": [
    "sum((sota['pred_label'] == \"no_relation\").to_list())"
   ],
   "outputs": [
    {
     "output_type": "execute_result",
     "data": {
      "text/plain": [
       "4762"
      ]
     },
     "metadata": {},
     "execution_count": 18
    }
   ],
   "metadata": {}
  },
  {
   "cell_type": "code",
   "execution_count": 19,
   "source": [
    "len(sota)"
   ],
   "outputs": [
    {
     "output_type": "execute_result",
     "data": {
      "text/plain": [
       "7765"
      ]
     },
     "metadata": {},
     "execution_count": 19
    }
   ],
   "metadata": {}
  },
  {
   "cell_type": "code",
   "execution_count": null,
   "source": [],
   "outputs": [],
   "metadata": {}
  }
 ],
 "metadata": {
  "orig_nbformat": 4,
  "language_info": {
   "name": "python",
   "version": "3.8.5",
   "mimetype": "text/x-python",
   "codemirror_mode": {
    "name": "ipython",
    "version": 3
   },
   "pygments_lexer": "ipython3",
   "nbconvert_exporter": "python",
   "file_extension": ".py"
  },
  "kernelspec": {
   "name": "python3",
   "display_name": "Python 3.8.5 64-bit ('base': conda)"
  },
  "interpreter": {
   "hash": "98b0a9b7b4eaaa670588a142fd0a9b87eaafe866f1db4228be72b4211d12040f"
  }
 },
 "nbformat": 4,
 "nbformat_minor": 2
}